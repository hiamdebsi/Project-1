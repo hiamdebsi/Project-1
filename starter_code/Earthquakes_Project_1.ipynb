{
 "cells": [
  {
   "cell_type": "code",
   "execution_count": 1,
   "id": "2b430ad0",
   "metadata": {},
   "outputs": [],
   "source": [
    "#Dependencies and Set Up\n",
    "import requests\n",
    "import json\n",
    "import pandas as pd\n",
    "import reverse_geocoder as rg\n",
    "import os\n",
    "import csv\n",
    "\n",
    "from pprint import pprint\n",
    "from datetime import datetime as dt"
   ]
  },
  {
   "cell_type": "code",
   "execution_count": 2,
   "id": "2337fe1e",
   "metadata": {},
   "outputs": [],
   "source": [
    "#Build a parameter and url in order to request data from API\n",
    "paramss = {\"format\": \"geojson\", \n",
    "           \"starttime\": \"2010-01-01\", \n",
    "           \"endtime\": \"2020-12-31\"}\n",
    "\n",
    "url = r\"https://earthquake.usgs.gov/fdsnws/event/1/query?\"\n",
    "\n",
    "#Create list for the different alert levels, and an empty data list to append data in it\n",
    "alert_levels=['green','yellow','orange','red']\n",
    "data_list = []\n",
    "\n",
    "def earthquake(level):\n",
    "    \n",
    "    #Function to get the json data from earthquake.usgs.gov\n",
    "    paramss['alertlevel'] = level\n",
    "    print(paramss)\n",
    "    try:\n",
    "        response = requests.get(url, params = paramss)\n",
    "        print(response.status_code)\n",
    "        if response.status_code == 200:\n",
    "            data = json.loads(response.text)\n",
    "            #pprint(data)\n",
    "\n",
    "    except requests.exceptions.RequestException as e:\n",
    "        print(e)\n",
    "    finally:\n",
    "        return data"
   ]
  },
  {
   "cell_type": "code",
   "execution_count": 8,
   "id": "e7f755ec",
   "metadata": {},
   "outputs": [
    {
     "name": "stdout",
     "output_type": "stream",
     "text": [
      "{'format': 'geojson', 'starttime': '2010-01-01', 'endtime': '2020-12-31', 'alertlevel': 'green'}\n",
      "200\n",
      "{'format': 'geojson', 'starttime': '2010-01-01', 'endtime': '2020-12-31', 'alertlevel': 'yellow'}\n",
      "200\n",
      "{'format': 'geojson', 'starttime': '2010-01-01', 'endtime': '2020-12-31', 'alertlevel': 'orange'}\n",
      "200\n",
      "{'format': 'geojson', 'starttime': '2010-01-01', 'endtime': '2020-12-31', 'alertlevel': 'red'}\n",
      "200\n",
      "JSON file created.\n"
     ]
    }
   ],
   "source": [
    "def getJsonData():\n",
    "    for level in alert_levels:\n",
    "        data = earthquake(level)\n",
    "        if data:\n",
    "            data_list.append(data)\n",
    "    \n",
    "    #save to .json file\n",
    "    with open('data.json', 'w') as outfile:\n",
    "        json.dump(data_list, outfile)\n",
    "\n",
    "getJsonData()  \n",
    "print('JSON file created.')"
   ]
  },
  {
   "cell_type": "code",
   "execution_count": 9,
   "id": "9619402f",
   "metadata": {},
   "outputs": [],
   "source": [
    "#Opening JSON file\n",
    "f = open('data.json',)\n",
    " \n",
    "#Returns JSON object as a dictionary\n",
    "data = json.load(f)\n",
    "\n",
    "#Create a list to append values and data required for analysis\n",
    "earthquake_subdata= []"
   ]
  },
  {
   "cell_type": "code",
   "execution_count": 11,
   "id": "a51151d4",
   "metadata": {},
   "outputs": [],
   "source": [
    "# Iterating through the json list\n",
    "\n",
    "for feature in data[0]['features']:\n",
    "    #pprint(feature)\n",
    "    dEarthquake = {}\n",
    "    #print(feature['id'])\n",
    "    dEarthquake['id']= feature['id']\n",
    "    dEarthquake['lat']= feature['geometry']['coordinates'][0]\n",
    "    dEarthquake['lng']= feature['geometry']['coordinates'][1]\n",
    "    dEarthquake['latlngdepth']=feature['geometry']['coordinates']\n",
    "    dEarthquake['alert']= feature['properties']['alert']\n",
    "    dEarthquake['place']= feature['properties']['place']\n",
    "    dEarthquake['date']= dt.fromtimestamp(feature['properties']['time']/1000)\n",
    "    dEarthquake['magnitude']= feature['properties']['mag']\n",
    "    dEarthquake['tsunami']= feature['properties']['tsunami']\n",
    "    dEarthquake['type']= feature['properties']['type']\n",
    "    \n",
    "    earthquake_subdata.append(dEarthquake)\n",
    "    #pprint(i)\n",
    " \n",
    "# Closing file\n",
    "f.close()\n",
    "\n",
    "#Get the json information that we need and convert it into a dataframe\n",
    "earthquake_data= pd.DataFrame(earthquake_subdata)\n",
    "\n",
    "#Create a csv file with all our required data\n",
    "output_folder = \"../output_data/\"\n",
    "earthquake_data.to_csv(output_folder + \"EarthquakeData.csv\", encoding=\"utf-8\", index = True)"
   ]
  },
  {
   "cell_type": "code",
   "execution_count": null,
   "id": "11ffc7db",
   "metadata": {},
   "outputs": [],
   "source": []
  }
 ],
 "metadata": {
  "kernelspec": {
   "display_name": "Python 3",
   "language": "python",
   "name": "python3"
  },
  "language_info": {
   "codemirror_mode": {
    "name": "ipython",
    "version": 3
   },
   "file_extension": ".py",
   "mimetype": "text/x-python",
   "name": "python",
   "nbconvert_exporter": "python",
   "pygments_lexer": "ipython3",
   "version": "3.6.13"
  }
 },
 "nbformat": 4,
 "nbformat_minor": 5
}
