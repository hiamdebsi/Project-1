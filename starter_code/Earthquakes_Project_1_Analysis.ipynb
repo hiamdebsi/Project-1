{
 "cells": [
  {
   "cell_type": "markdown",
   "id": "85be090c",
   "metadata": {},
   "source": [
    "###### Analysis:\n",
    "\n",
    "### Observations on questions asked:\n",
    "    * Where do earthquakes happen by Country? / top 10\n",
    "    * What is the density of Magnitudes for Earthquakes?\n",
    "    * What month do earthquakes mostly occur?\n",
    "    * What is the alert level density of earthquakes?\n",
    "    * Is there a Relationship between Magnitude and % chance of Large Oceanic Event?\n",
    "    \n",
    "1. Where do earthquakes happen by Country? / top 10\n",
    "    * The Total number of earthquakes by Counties, showed that USA (count: 1733) has far more earthquakes than any other country over the ten years (2010-2020). Indonesia being the second highest at 438. Most countries approximately one.\n",
    "    \n",
    "2. Question: What is the density of Magnitudes for Earthquakes?\n",
    "    * The Density Histogram of Earthquake Magnitudes shows that the Magnitudes around  5.5 to <6 are the most dense and thus, these magnitudes will occur more frequently than others around the world. \n",
    "    \n",
    "3. What month do earthquakes mostly occur?\n",
    "    * The Density Histogram of Earthquake Magnitudes plot shows that earthquakes can happen at any time of the year. The numbers reveal how 'almost evenly' spread the number of earthquake events are, in each month. Varying between 400 and 550 each month.\n",
    "\n",
    "4. What is the alert level density of earthquakes?\n",
    "    * The 'Total Number of Earthquakes per Alert Level (2010-2020)' plot, and the heat map shows that the Green alerts (5852) have far more number of earthquakes than the other alert levels (orange:37,red:16,yellow:144). This is a good thing. As the alert levels tell us the number of fatalities and infrastructure damage value respectively. Additionally, the plot 'Density Histogram of Earthquake Alert Level Showing Magnitudes' shows that all levels of magnitudes that were noticedin this green alert level. Green level density: >1.3 and other alert levels were all lower than 0.3 \n",
    "    \n",
    "5. Is there a Relationship between Magnitude and % chance of Large Oceanic Event?\n",
    "    * The linear regression plots 'Earthquake Magnitude vs % Chance of Large Oceanic Event (2010-2020)' shows that no correlation between Magnitude and Large Oceanic Events were seen because the value of both charts r-squared = 0.09 rounded . This indicates that no correlation can be depicted. Note: Charts were seperated by magnitude because the scatter plots showed two distinct seperations of clustering. One set of clusters for magnitudes >=3.6 and <- 6.1 and then another set of cluster > 6.1\n",
    "\n",
    "* Notes: It was interesting to see that in the second regression analysis plot, where magnitudes were above 6.1, that there was one possible 'outlier' at 8.6  However, this was indeed an earthquake at this great magnitude, that did not cause a large oceanic event. Therefore, we need to include other variables that cause large oceanic effects such as the depth of the earthquake to further analyse how earthquakes can cause a large oceanic event. \n",
    "    * include latitudes and longitudes, only in the ocean\n",
    "    * include magnitude\n",
    "    * include depth of the earthquake\n",
    "    * look at other possbile Models that could fit better\n"
   ]
  },
  {
   "cell_type": "code",
   "execution_count": 1,
   "id": "b8b46517",
   "metadata": {},
   "outputs": [],
   "source": [
    "#Dependencies and Set Up\n",
    "import pandas as pd\n",
    "import matplotlib.pyplot as plt\n",
    "import numpy as np\n",
    "import gmaps\n",
    "import matplotlib.ticker as ticker\n",
    "import gmaps\n",
    "\n",
    "from config import gkey\n",
    "from datetime import datetime as dt\n",
    "from matplotlib.ticker import (MultipleLocator, AutoMinorLocator)\n",
    "from scipy.stats import linregress\n",
    "\n",
    "#define the output folder to save csv data and png to\n",
    "output_folder = \"../output_data/\""
   ]
  },
  {
   "cell_type": "code",
   "execution_count": 2,
   "id": "2d2e0cef",
   "metadata": {},
   "outputs": [],
   "source": [
    "#Path to csv file\n",
    "earthquake_data_path = output_folder + 'EarthquakeData.csv'\n",
    "\n",
    "#Read the earthquake data\n",
    "earthquake_data = pd.read_csv(earthquake_data_path,usecols=range(1,14))"
   ]
  },
  {
   "cell_type": "code",
   "execution_count": 3,
   "id": "0a43a7e0",
   "metadata": {},
   "outputs": [],
   "source": [
    "#Ensure that the Date is in datetime format, need to redo on loading from csv\n",
    "earthquake_data['Date']=  pd.to_datetime(earthquake_data['Date'])"
   ]
  },
  {
   "cell_type": "code",
   "execution_count": 4,
   "id": "399d428f",
   "metadata": {},
   "outputs": [
    {
     "name": "stdout",
     "output_type": "stream",
     "text": [
      "<class 'pandas.core.frame.DataFrame'>\n",
      "RangeIndex: 6048 entries, 0 to 6047\n",
      "Data columns (total 13 columns):\n",
      " #   Column        Non-Null Count  Dtype         \n",
      "---  ------        --------------  -----         \n",
      " 0   id            6048 non-null   object        \n",
      " 1   Latitude      6048 non-null   float64       \n",
      " 2   Longitude     6048 non-null   float64       \n",
      " 3   Depth (km)    6048 non-null   float64       \n",
      " 4   Lat_Lng       6048 non-null   object        \n",
      " 5   Alert         6048 non-null   object        \n",
      " 6   Place         6047 non-null   object        \n",
      " 7   Date          6048 non-null   datetime64[ns]\n",
      " 8   Magnitude     6048 non-null   float64       \n",
      " 9   Tsunami       6048 non-null   int64         \n",
      " 10  Type          6048 non-null   object        \n",
      " 11  Country       5793 non-null   object        \n",
      " 12  Country_Code  6048 non-null   object        \n",
      "dtypes: datetime64[ns](1), float64(4), int64(1), object(7)\n",
      "memory usage: 614.4+ KB\n"
     ]
    }
   ],
   "source": [
    "earthquake_data.info()"
   ]
  },
  {
   "cell_type": "code",
   "execution_count": 5,
   "id": "bbaffac0",
   "metadata": {
    "scrolled": true
   },
   "outputs": [
    {
     "data": {
      "text/html": [
       "<div>\n",
       "<style scoped>\n",
       "    .dataframe tbody tr th:only-of-type {\n",
       "        vertical-align: middle;\n",
       "    }\n",
       "\n",
       "    .dataframe tbody tr th {\n",
       "        vertical-align: top;\n",
       "    }\n",
       "\n",
       "    .dataframe thead th {\n",
       "        text-align: right;\n",
       "    }\n",
       "</style>\n",
       "<table border=\"1\" class=\"dataframe\">\n",
       "  <thead>\n",
       "    <tr style=\"text-align: right;\">\n",
       "      <th></th>\n",
       "      <th>id</th>\n",
       "      <th>Latitude</th>\n",
       "      <th>Longitude</th>\n",
       "      <th>Depth (km)</th>\n",
       "      <th>Lat_Lng</th>\n",
       "      <th>Alert</th>\n",
       "      <th>Place</th>\n",
       "      <th>Date</th>\n",
       "      <th>Magnitude</th>\n",
       "      <th>Tsunami</th>\n",
       "      <th>Type</th>\n",
       "      <th>Country</th>\n",
       "      <th>Country_Code</th>\n",
       "    </tr>\n",
       "  </thead>\n",
       "  <tbody>\n",
       "    <tr>\n",
       "      <th>0</th>\n",
       "      <td>us6000d454</td>\n",
       "      <td>-0.7603</td>\n",
       "      <td>-21.1005</td>\n",
       "      <td>10.00</td>\n",
       "      <td>(-0.7603, -21.1005)</td>\n",
       "      <td>green</td>\n",
       "      <td>central Mid-Atlantic Ridge</td>\n",
       "      <td>2020-12-29 18:34:57.647</td>\n",
       "      <td>5.7</td>\n",
       "      <td>0</td>\n",
       "      <td>earthquake</td>\n",
       "      <td>Ascension</td>\n",
       "      <td>SH</td>\n",
       "    </tr>\n",
       "    <tr>\n",
       "      <th>1</th>\n",
       "      <td>us6000d3xn</td>\n",
       "      <td>43.3890</td>\n",
       "      <td>-126.9951</td>\n",
       "      <td>10.00</td>\n",
       "      <td>(43.389, -126.9951)</td>\n",
       "      <td>green</td>\n",
       "      <td>212 km W of Bandon, Oregon</td>\n",
       "      <td>2020-12-29 02:10:29.079</td>\n",
       "      <td>5.7</td>\n",
       "      <td>1</td>\n",
       "      <td>earthquake</td>\n",
       "      <td>Oregon</td>\n",
       "      <td>US</td>\n",
       "    </tr>\n",
       "    <tr>\n",
       "      <th>2</th>\n",
       "      <td>us6000d3x8</td>\n",
       "      <td>-6.3985</td>\n",
       "      <td>154.6521</td>\n",
       "      <td>23.63</td>\n",
       "      <td>(-6.3985, 154.6521)</td>\n",
       "      <td>green</td>\n",
       "      <td>92 km W of Panguna, Papua New Guinea</td>\n",
       "      <td>2020-12-29 01:23:29.769</td>\n",
       "      <td>5.4</td>\n",
       "      <td>0</td>\n",
       "      <td>earthquake</td>\n",
       "      <td>Bougainville</td>\n",
       "      <td>PG</td>\n",
       "    </tr>\n",
       "    <tr>\n",
       "      <th>3</th>\n",
       "      <td>us6000d3ln</td>\n",
       "      <td>-0.1917</td>\n",
       "      <td>124.5061</td>\n",
       "      <td>51.77</td>\n",
       "      <td>(-0.1917, 124.5061)</td>\n",
       "      <td>green</td>\n",
       "      <td>170 km S of Tomohon, Indonesia</td>\n",
       "      <td>2020-12-28 02:31:11.352</td>\n",
       "      <td>5.1</td>\n",
       "      <td>0</td>\n",
       "      <td>earthquake</td>\n",
       "      <td>North Sulawesi</td>\n",
       "      <td>ID</td>\n",
       "    </tr>\n",
       "    <tr>\n",
       "      <th>4</th>\n",
       "      <td>us6000d3kx</td>\n",
       "      <td>14.2272</td>\n",
       "      <td>56.7800</td>\n",
       "      <td>10.00</td>\n",
       "      <td>(14.2272, 56.78)</td>\n",
       "      <td>green</td>\n",
       "      <td>Owen Fracture Zone region</td>\n",
       "      <td>2020-12-28 00:46:46.797</td>\n",
       "      <td>5.4</td>\n",
       "      <td>0</td>\n",
       "      <td>earthquake</td>\n",
       "      <td>Muhafazat Hadramawt</td>\n",
       "      <td>YE</td>\n",
       "    </tr>\n",
       "  </tbody>\n",
       "</table>\n",
       "</div>"
      ],
      "text/plain": [
       "           id  Latitude  Longitude  Depth (km)              Lat_Lng  Alert  \\\n",
       "0  us6000d454   -0.7603   -21.1005       10.00  (-0.7603, -21.1005)  green   \n",
       "1  us6000d3xn   43.3890  -126.9951       10.00  (43.389, -126.9951)  green   \n",
       "2  us6000d3x8   -6.3985   154.6521       23.63  (-6.3985, 154.6521)  green   \n",
       "3  us6000d3ln   -0.1917   124.5061       51.77  (-0.1917, 124.5061)  green   \n",
       "4  us6000d3kx   14.2272    56.7800       10.00     (14.2272, 56.78)  green   \n",
       "\n",
       "                                  Place                    Date  Magnitude  \\\n",
       "0            central Mid-Atlantic Ridge 2020-12-29 18:34:57.647        5.7   \n",
       "1            212 km W of Bandon, Oregon 2020-12-29 02:10:29.079        5.7   \n",
       "2  92 km W of Panguna, Papua New Guinea 2020-12-29 01:23:29.769        5.4   \n",
       "3        170 km S of Tomohon, Indonesia 2020-12-28 02:31:11.352        5.1   \n",
       "4             Owen Fracture Zone region 2020-12-28 00:46:46.797        5.4   \n",
       "\n",
       "   Tsunami        Type              Country Country_Code  \n",
       "0        0  earthquake            Ascension           SH  \n",
       "1        1  earthquake               Oregon           US  \n",
       "2        0  earthquake         Bougainville           PG  \n",
       "3        0  earthquake       North Sulawesi           ID  \n",
       "4        0  earthquake  Muhafazat Hadramawt           YE  "
      ]
     },
     "execution_count": 5,
     "metadata": {},
     "output_type": "execute_result"
    }
   ],
   "source": [
    "#Check the earthquake data\n",
    "earthquake_data.head()"
   ]
  },
  {
   "cell_type": "code",
   "execution_count": 6,
   "id": "7e5e15f7",
   "metadata": {},
   "outputs": [],
   "source": [
    "# Question: Where do earthquakes happen by Country?"
   ]
  },
  {
   "cell_type": "code",
   "execution_count": 7,
   "id": "9b0b03e5",
   "metadata": {
    "scrolled": true
   },
   "outputs": [
    {
     "data": {
      "text/plain": [
       "Country_Code\n",
       "AF    19\n",
       "AG     2\n",
       "AL     3\n",
       "AQ    13\n",
       "AR    48\n",
       "      ..\n",
       "YE    17\n",
       "YT     2\n",
       "ZA    32\n",
       "ZM     1\n",
       "ZW     2\n",
       "Length: 118, dtype: int64"
      ]
     },
     "execution_count": 7,
     "metadata": {},
     "output_type": "execute_result"
    }
   ],
   "source": [
    "#Check size of country codes to ensure data is accurate/makes sense\n",
    "earthquakes_gb_country = earthquake_data.groupby(['Country_Code'])\n",
    "earthquakes_gb_country.size()"
   ]
  },
  {
   "cell_type": "code",
   "execution_count": 8,
   "id": "9cc8b7d9",
   "metadata": {
    "scrolled": true
   },
   "outputs": [
    {
     "data": {
      "text/plain": [
       "Country_Code\n",
       "TM       1\n",
       "MN       1\n",
       "ST       1\n",
       "ET       1\n",
       "TC       1\n",
       "      ... \n",
       "PG     299\n",
       "CL     336\n",
       "TO     344\n",
       "ID     438\n",
       "US    1733\n",
       "Name: id, Length: 118, dtype: int64"
      ]
     },
     "execution_count": 8,
     "metadata": {},
     "output_type": "execute_result"
    }
   ],
   "source": [
    "#Create Bar Graph\n",
    "#Group the data by country and # count of ids\n",
    "bar_graph_data = earthquake_data.groupby(['Country_Code'])['id'].count()\n",
    "bar_graph_data.sort_values()"
   ]
  },
  {
   "cell_type": "code",
   "execution_count": 9,
   "id": "6092f4e8",
   "metadata": {
    "scrolled": false
   },
   "outputs": [
    {
     "data": {
      "image/png": "[encoded data removed]",
      "text/plain": [
       "<Figure size 2160x360 with 1 Axes>"
      ]
     },
     "metadata": {
      "needs_background": "light"
     },
     "output_type": "display_data"
    }
   ],
   "source": [
    "#Show all countries.\n",
    "#Create the bar plot\n",
    "country_codes_count = bar_graph_data.plot.bar(figsize=(30,5), color='g', alpha=0.2, fontsize=14, rot=45)\n",
    "\n",
    "#Add required labels\n",
    "plt.xlabel('Country Codes', fontsize=14)\n",
    "plt.ylabel('Total Number of Earthquakes per Country', fontsize=14)\n",
    "plt.title('Total Number of Earthquakes per Country (2010-2020)', fontsize=20)\n",
    "plt.tight_layout()"
   ]
  },
  {
   "cell_type": "code",
   "execution_count": 10,
   "id": "eef7e071",
   "metadata": {},
   "outputs": [
    {
     "data": {
      "text/html": [
       "<div>\n",
       "<style scoped>\n",
       "    .dataframe tbody tr th:only-of-type {\n",
       "        vertical-align: middle;\n",
       "    }\n",
       "\n",
       "    .dataframe tbody tr th {\n",
       "        vertical-align: top;\n",
       "    }\n",
       "\n",
       "    .dataframe thead th {\n",
       "        text-align: right;\n",
       "    }\n",
       "</style>\n",
       "<table border=\"1\" class=\"dataframe\">\n",
       "  <thead>\n",
       "    <tr style=\"text-align: right;\">\n",
       "      <th></th>\n",
       "      <th>Total Count</th>\n",
       "      <th>Percentage of Country Code</th>\n",
       "    </tr>\n",
       "    <tr>\n",
       "      <th>Country_Code</th>\n",
       "      <th></th>\n",
       "      <th></th>\n",
       "    </tr>\n",
       "  </thead>\n",
       "  <tbody>\n",
       "    <tr>\n",
       "      <th>AF</th>\n",
       "      <td>19</td>\n",
       "      <td>0.314153</td>\n",
       "    </tr>\n",
       "    <tr>\n",
       "      <th>AG</th>\n",
       "      <td>2</td>\n",
       "      <td>0.033069</td>\n",
       "    </tr>\n",
       "    <tr>\n",
       "      <th>AL</th>\n",
       "      <td>3</td>\n",
       "      <td>0.049603</td>\n",
       "    </tr>\n",
       "    <tr>\n",
       "      <th>AQ</th>\n",
       "      <td>13</td>\n",
       "      <td>0.214947</td>\n",
       "    </tr>\n",
       "    <tr>\n",
       "      <th>AR</th>\n",
       "      <td>48</td>\n",
       "      <td>0.793651</td>\n",
       "    </tr>\n",
       "  </tbody>\n",
       "</table>\n",
       "</div>"
      ],
      "text/plain": [
       "              Total Count  Percentage of Country Code\n",
       "Country_Code                                         \n",
       "AF                     19                    0.314153\n",
       "AG                      2                    0.033069\n",
       "AL                      3                    0.049603\n",
       "AQ                     13                    0.214947\n",
       "AR                     48                    0.793651"
      ]
     },
     "execution_count": 10,
     "metadata": {},
     "output_type": "execute_result"
    }
   ],
   "source": [
    "#Create a new data frame with just country codes and their total count\n",
    "#Split the data into ids and alert levels and get the number to plot by using the size function\n",
    "groupby_code=earthquake_data.groupby(['id','Country_Code'])\n",
    "code_df=pd.DataFrame(groupby_code.size())\n",
    "\n",
    "#Create the dataframe with total count of alert levels\n",
    "country_code=pd.DataFrame(code_df.groupby(['Country_Code']).count())\n",
    "country_code.columns = ['Total Count']\n",
    "\n",
    "#Create and format the percentage\n",
    "country_code['Percentage of Country Code']=(100*(country_code['Total Count']/country_code['Total Count'].sum()))\n",
    "\n",
    "#Format the \"Percentage of Alert Level\" column\n",
    "country_code['Percentage of Country Code']=country_code['Percentage of Country Code']\n",
    "\n",
    "#Print out DataFrame\n",
    "country_code.head()"
   ]
  },
  {
   "cell_type": "code",
   "execution_count": 11,
   "id": "9ea07ffe",
   "metadata": {
    "scrolled": false
   },
   "outputs": [
    {
     "data": {
      "text/html": [
       "<div>\n",
       "<style scoped>\n",
       "    .dataframe tbody tr th:only-of-type {\n",
       "        vertical-align: middle;\n",
       "    }\n",
       "\n",
       "    .dataframe tbody tr th {\n",
       "        vertical-align: top;\n",
       "    }\n",
       "\n",
       "    .dataframe thead th {\n",
       "        text-align: right;\n",
       "    }\n",
       "</style>\n",
       "<table border=\"1\" class=\"dataframe\">\n",
       "  <thead>\n",
       "    <tr style=\"text-align: right;\">\n",
       "      <th></th>\n",
       "      <th>Total Count</th>\n",
       "      <th>Percentage of Country Code</th>\n",
       "    </tr>\n",
       "    <tr>\n",
       "      <th>Country_Code</th>\n",
       "      <th></th>\n",
       "      <th></th>\n",
       "    </tr>\n",
       "  </thead>\n",
       "  <tbody>\n",
       "    <tr>\n",
       "      <th>MW</th>\n",
       "      <td>1</td>\n",
       "      <td>0.016534</td>\n",
       "    </tr>\n",
       "    <tr>\n",
       "      <th>MY</th>\n",
       "      <td>1</td>\n",
       "      <td>0.016534</td>\n",
       "    </tr>\n",
       "    <tr>\n",
       "      <th>MZ</th>\n",
       "      <td>1</td>\n",
       "      <td>0.016534</td>\n",
       "    </tr>\n",
       "    <tr>\n",
       "      <th>NU</th>\n",
       "      <td>1</td>\n",
       "      <td>0.016534</td>\n",
       "    </tr>\n",
       "    <tr>\n",
       "      <th>MN</th>\n",
       "      <td>1</td>\n",
       "      <td>0.016534</td>\n",
       "    </tr>\n",
       "  </tbody>\n",
       "</table>\n",
       "</div>"
      ],
      "text/plain": [
       "              Total Count  Percentage of Country Code\n",
       "Country_Code                                         \n",
       "MW                      1                    0.016534\n",
       "MY                      1                    0.016534\n",
       "MZ                      1                    0.016534\n",
       "NU                      1                    0.016534\n",
       "MN                      1                    0.016534"
      ]
     },
     "execution_count": 11,
     "metadata": {},
     "output_type": "execute_result"
    }
   ],
   "source": [
    "#Sort the df in descending order\n",
    "sorted_country_code = country_code.sort_values(by=['Total Count'], ascending=False)\n",
    "sorted_country_code.tail()"
   ]
  },
  {
   "cell_type": "code",
   "execution_count": 12,
   "id": "7e17d25d",
   "metadata": {
    "scrolled": true
   },
   "outputs": [
    {
     "data": {
      "image/png": "[encoded data removed]",
      "text/plain": [
       "<Figure size 2880x360 with 1 Axes>"
      ]
     },
     "metadata": {
      "needs_background": "light"
     },
     "output_type": "display_data"
    }
   ],
   "source": [
    "#Create the bar plot\n",
    "descending_order_plot = sorted_country_code['Total Count'].plot.bar(figsize=(40,5), color='g', alpha=0.2,\n",
    "                                                                    rot=45, fontsize=14)\n",
    "#Add required labels\n",
    "plt.xlabel('Country Codes', fontsize=14, fontweight='bold')\n",
    "plt.ylabel('Total Number of Earthquakes', fontsize=14, fontweight='bold')\n",
    "plt.title('Total Number of Earthquakes per Country (2010-2020)', fontsize=20)\n",
    "plt.tight_layout()\n",
    "\n",
    "#Save plot as an image\n",
    "plt.savefig(output_folder  + \"CountryCodesVSNumberofEarthquakesBar.png\")\n"
   ]
  },
  {
   "cell_type": "code",
   "execution_count": 13,
   "id": "4df8230f",
   "metadata": {},
   "outputs": [],
   "source": [
    "#Sort country codes by top and bottom 10 countries to have a better visual\n",
    "top_10 = sorted_country_code.head(10)\n",
    "bottom_10 = sorted_country_code.tail(10)"
   ]
  },
  {
   "cell_type": "code",
   "execution_count": 14,
   "id": "51a32ee3",
   "metadata": {
    "scrolled": true
   },
   "outputs": [
    {
     "data": {
      "image/png": "[encoded data removed]",
      "text/plain": [
       "<Figure size 2160x360 with 1 Axes>"
      ]
     },
     "metadata": {
      "needs_background": "light"
     },
     "output_type": "display_data"
    }
   ],
   "source": [
    "#Create the bar plot\n",
    "top_10_plot = top_10['Total Count'].plot.bar(figsize=(30,5), color='g', alpha=0.2, fontsize=14, rot=45)\n",
    "\n",
    "#Add required labels\n",
    "plt.xlabel('Country Codes', fontsize=14,fontweight='bold')\n",
    "plt.ylabel('Total Number of Earthquakes per Country', fontsize=14, fontweight='bold')\n",
    "plt.title('Total Number of Earthquakes for Top 10 Country Codes (2010-2020)', fontsize=20)\n",
    "plt.tight_layout()\n",
    "\n",
    "#Save plot as an image\n",
    "plt.savefig(output_folder + \"CountryCodesVSNumberofEarthquakesTop10Bar.png\")"
   ]
  },
  {
   "cell_type": "code",
   "execution_count": 15,
   "id": "b80a5104",
   "metadata": {},
   "outputs": [],
   "source": [
    "# As you can see by the first bar chart that most countries have very few earthquakes over 10 years. \n",
    "# A minimum of one earthquake.\n",
    "# The second bar chart reveals that the United States has significantly more earthquakes than all other countries.\n",
    "# (1733 Earthquakes)\n",
    "# The remaining top 10 countries that have earthquakes, ie)Indonesia:  has a total of 438 \n",
    "# and progressively reduces to New Zealand having 148 earthquakes over the ten years."
   ]
  },
  {
   "cell_type": "code",
   "execution_count": 16,
   "id": "569b43a1",
   "metadata": {},
   "outputs": [],
   "source": [
    "#Question: What is the density of Magnitudes for Earthquakes"
   ]
  },
  {
   "cell_type": "code",
   "execution_count": 19,
   "id": "7147defa",
   "metadata": {},
   "outputs": [
    {
     "data": {
      "image/png": "[encoded data removed]",
      "text/plain": [
       "<Figure size 720x360 with 1 Axes>"
      ]
     },
     "metadata": {
      "needs_background": "light"
     },
     "output_type": "display_data"
    }
   ],
   "source": [
    "#Density Historgram of Earthquake Magnitudes\n",
    "\n",
    "currMag = earthquake_data['Magnitude']\n",
    "fig, (ax1) = plt.subplots(figsize=(10,5))\n",
    "\n",
    "ax1.hist(currMag, density=True, alpha=0.8,bins=30)  \n",
    "ax1.set_xlabel(\"Magnitude (Richter scale)\", fontweight=\"bold\")\n",
    "ax1.set_ylabel(\"Density\", fontweight='bold')\n",
    "ax1.set_title(\"Density Histogram of Earthquake Magnitudes\", fontsize=15)\n",
    "\n",
    "#ax1.set_xlim(0, 9)\n",
    "ax1.xaxis.grid(False, which='minor')\n",
    "#set the number of minor ticks between the major ticks\n",
    "ax1.xaxis.set_minor_locator(AutoMinorLocator(20))\n",
    "\n",
    "#set axis grid lines\n",
    "ax1.grid(b=True, which='major', linestyle='-')\n",
    "ax1.grid(b=True, which='minor', color='lightsteelblue', linestyle='--')\n",
    "\n",
    "#save the plot\n",
    "plt.savefig(output_folder + \"DensityHisEQMagnitudes.png\", facecolor = 'white')\n",
    "plt.show()"
   ]
  },
  {
   "cell_type": "code",
   "execution_count": 18,
   "id": "b56358b2",
   "metadata": {},
   "outputs": [],
   "source": [
    "# Density Histogram of Earthquake Magnitudes shows that Magnitudes around  5.5 to <6 are the most dense\n",
    "# and thus, these magnitudes will occur more frequently than others around the world. "
   ]
  },
  {
   "cell_type": "code",
   "execution_count": null,
   "id": "b0f79651",
   "metadata": {},
   "outputs": [],
   "source": [
    "# Question: What month do earthquakes mostly occur? (over 10 years)"
   ]
  },
  {
   "cell_type": "code",
   "execution_count": null,
   "id": "69be9c9b",
   "metadata": {},
   "outputs": [],
   "source": [
    "# Get the data needed : ID, Date , Month\n",
    "earthquake_month = earthquake_data[['id','Date']]\n",
    "earthquake_month.head()"
   ]
  },
  {
   "cell_type": "code",
   "execution_count": null,
   "id": "4e105389",
   "metadata": {},
   "outputs": [],
   "source": [
    "# Create a Month_Name header wth NaN values\n",
    "header_list = ['id','Date','Month_Name']\n",
    "earthquake_month = earthquake_month.reindex(columns = header_list)\n",
    "earthquake_month.head()"
   ]
  },
  {
   "cell_type": "code",
   "execution_count": null,
   "id": "f2ae6c41",
   "metadata": {},
   "outputs": [],
   "source": [
    "# Set the Month_Name values\n",
    "earthquake_month['Month_Name']= pd.DatetimeIndex(earthquake_month['Date']).strftime('%b')"
   ]
  },
  {
   "cell_type": "code",
   "execution_count": null,
   "id": "65d20ad1",
   "metadata": {},
   "outputs": [],
   "source": [
    "# Show the values are set\n",
    "earthquake_month.tail()"
   ]
  },
  {
   "cell_type": "code",
   "execution_count": null,
   "id": "c83a1a2b",
   "metadata": {},
   "outputs": [],
   "source": [
    "# Get the counts grouped by the months \n",
    "earthquake_month_group = earthquake_month.groupby('Month_Name')['id'].count()\n",
    "earthquake_month_group[:2]"
   ]
  },
  {
   "cell_type": "code",
   "execution_count": null,
   "id": "c4b8294d",
   "metadata": {},
   "outputs": [],
   "source": [
    "# Sort the series by Month_Name \n",
    "#no longer in order after grouping. Create a category group and sort by index\n",
    "cat = ['Jan', 'Feb', 'Mar', 'Apr','May','Jun', 'Jul', 'Aug','Sep', 'Oct', 'Nov', 'Dec']\n",
    "earthquake_month_group.index = pd.CategoricalIndex(earthquake_month_group.index, categories=cat, ordered=True)\n",
    "earthquake_month_group = earthquake_month_group.sort_index()"
   ]
  },
  {
   "cell_type": "code",
   "execution_count": null,
   "id": "653b277e",
   "metadata": {},
   "outputs": [],
   "source": [
    "# Create a bar chart based off of the group series \n",
    "plt.figure(figsize=(8,5))\n",
    "\n",
    "x_axis = earthquake_month_group.index.values\n",
    "y_axis = earthquake_month_group.values\n",
    "\n",
    "fig = plt.bar(x_axis, y_axis, color='lightsteelblue', align=\"center\")\n",
    "# Give the chart a title, x label, and y label\n",
    "fig = plt.title(\"Number of Earthquakes by Month over 10 years (2010-2020)\", fontsize=14)\n",
    "fig = plt.xlabel(\"Months\",fontweight='bold')\n",
    "fig = plt.ylabel(\"Number of Earthquake Events\", fontweight='bold')\n",
    "\n",
    "# Set the limits of the x axis\n",
    "plt.xlim(-0.75, len(x_axis)-0.20) \n",
    "# Set the limits of the y axis\n",
    "plt.ylim(0, max(earthquake_month_group.values)+5)\n",
    "\n",
    "#rotate the x labels\n",
    "plt.xticks(rotation=45)\n",
    "\n",
    "plt.tight_layout()\n",
    "#save the figure\n",
    "plt.savefig(output_folder + \"NumberEarthquakesByMonth.png\", facecolor = 'white')\n",
    "plt.show()"
   ]
  },
  {
   "cell_type": "code",
   "execution_count": null,
   "id": "95b083c3",
   "metadata": {},
   "outputs": [],
   "source": [
    "# The above plot shows that earthquakes can happen at any time of the year. \n",
    "# The numbers show how 'almost evenly' spread the number of earthquake events are, in each month.\n",
    "# Varying between 400 and 550 each month."
   ]
  },
  {
   "cell_type": "code",
   "execution_count": null,
   "id": "9a83c722",
   "metadata": {},
   "outputs": [],
   "source": [
    "#Question: What is the alert level density for earthquakes?"
   ]
  },
  {
   "cell_type": "code",
   "execution_count": null,
   "id": "35ea058b",
   "metadata": {
    "scrolled": true
   },
   "outputs": [],
   "source": [
    "#Groupby alert to analyse the frequency of earthquake per alert type\n",
    "earthquakes_gb_alert = earthquake_data.groupby(['Alert'])\n",
    "earthquakes_gb_alert.size()"
   ]
  },
  {
   "cell_type": "code",
   "execution_count": null,
   "id": "60c30208",
   "metadata": {
    "scrolled": true
   },
   "outputs": [],
   "source": [
    "earthquakes_gb_alert.count()"
   ]
  },
  {
   "cell_type": "code",
   "execution_count": null,
   "id": "3665bfeb",
   "metadata": {},
   "outputs": [],
   "source": [
    "#Split the data into ids and alert levels and get the number to plot by using the size function\n",
    "groupby_alert=earthquake_data.groupby(['Alert','id'])\n",
    "alert_df=pd.DataFrame(groupby_alert.size())\n",
    "#Create the dataframe with total count of alert levels\n",
    "alert_level=pd.DataFrame(alert_df.groupby(['Alert']).count())\n",
    "alert_level.columns = ['Total Count']\n",
    "#Create and format the percentage\n",
    "alert_level['Percentage of Alert Level']=(100*(alert_level['Total Count']/alert_level['Total Count'].sum()))\n",
    "#Format the “Percentage of Alert Level” column\n",
    "alert_level['Percentage of Alert Level']=alert_level['Percentage of Alert Level']\n",
    "#Print out DataFrame\n",
    "alert_level"
   ]
  },
  {
   "cell_type": "code",
   "execution_count": null,
   "id": "85147356",
   "metadata": {},
   "outputs": [],
   "source": [
    "#Create the bar plot\n",
    "alert_level_plot = alert_level['Total Count'].plot.bar(figsize=(8,5),alpha=0.8, fontsize=14, rot=45,\n",
    "                                                      color=['green', 'orange', 'red', 'yellow'])\n",
    "#Add required labels\n",
    "plt.xlabel('Alert Levels', fontsize=14, fontweight='bold')\n",
    "plt.ylabel('Total Number of Earthquakes', fontsize=14, fontweight='bold')\n",
    "plt.title('Total Number of Earthquakes per Alert Level (2010-2020)', fontsize=20)\n",
    "#plt.grid(True, color = \"grey\", linewidth = \"1.4\", linestyle = \"-.\")\n",
    "plt.tight_layout()\n",
    "\n",
    "#Save plot as an image\n",
    "plt.savefig(output_folder + \"AlertLevelVSNumberofEarthquake.png\")"
   ]
  },
  {
   "cell_type": "code",
   "execution_count": null,
   "id": "753cfa65",
   "metadata": {},
   "outputs": [],
   "source": [
    "#Analysis: Above bar chart shows that the largest number of earthquakes appear as a green alert leverl.\n",
    "# 5852 Green alerts over the 10 years\n",
    "# 37 Orange alerts \n",
    "# 16 Red\n",
    "#144 yellow"
   ]
  },
  {
   "cell_type": "code",
   "execution_count": null,
   "id": "fd3c2a1f",
   "metadata": {},
   "outputs": [],
   "source": [
    "#Heatmap of magnitude distribution globally of 10 years, with 5 markers of largest magnitudes.\n",
    "#Configure gmaps with API key\n",
    "gmaps.configure(api_key=gkey)"
   ]
  },
  {
   "cell_type": "code",
   "execution_count": null,
   "id": "42679e4c",
   "metadata": {},
   "outputs": [],
   "source": [
    "# Store 'Lat' and 'Lng' into  locations \n",
    "locations = earthquake_data[[\"Latitude\", \"Longitude\"]].astype(float)\n",
    "\n",
    "# Convert magnitude to float and store\n",
    "magnitude_data = earthquake_data[\"Magnitude\"].astype(float)"
   ]
  },
  {
   "cell_type": "code",
   "execution_count": null,
   "id": "bfaab462",
   "metadata": {},
   "outputs": [],
   "source": [
    "#Split the data into ids and alert levels and get the number to plot by using the size function\n",
    "groupby_magnitude=earthquake_data.groupby(['Magnitude','Lat_Lng','Country_Code','Alert'])\n",
    "mag_df=pd.DataFrame(groupby_magnitude.size())\n",
    "\n",
    "#Create the dataframe with total count of alert levels\n",
    "magnitude=pd.DataFrame(mag_df.groupby(['Magnitude','Lat_Lng','Country_Code','Alert']).count())\n",
    "magnitude.tail(5)"
   ]
  },
  {
   "cell_type": "code",
   "execution_count": null,
   "id": "682aea3f",
   "metadata": {},
   "outputs": [],
   "source": [
    "#Create Heatmap + Marker Location Map for Top 5 Magnitudes\n",
    "fig = gmaps.figure(map_type='HYBRID')\n",
    "\n",
    "heat_layer = gmaps.heatmap_layer(locations, weights=magnitude_data, \n",
    "                                 dissipating=False, max_intensity=100,\n",
    "                                 point_radius = 1)\n",
    "\n",
    "top_5_earthquakes = [\n",
    "    {'Location': (2.327, 93.063), 'Country_Code':'ID', 'Alert_Level':'Yellow', 'Magnitude':(8.6)},\n",
    "    {'Location': (54.892, 153.221), 'Country_Code':'RU', 'Alert_Level':'Green','Magnitude':(8.3)},\n",
    "    {'Location': (-31.5729, -71.6744), 'Country_Code':'CL', 'Alert_Level':'Orange','Magnitude':(8.3)},\n",
    "    {'Location': (15.0222, -93.8993), 'Country_Code':'MX', 'Alert_Level':'Red','Magnitude':(8.2)},\n",
    "    {'Location': (0.802, 92.463), 'Country_Code':'ID', 'Alert_Level':'Green','Magnitude':(8.2)}\n",
    "]\n",
    "\n",
    "eq_locations = [eq['Location'] for eq in top_5_earthquakes]\n",
    "info_box_template = \"\"\"\n",
    "<dl>\n",
    "<dt>Country Code</dt><dd>{Country_Code}</dd>\n",
    "<dt>Alert Level</dt><dd>{Alert_Level}</dd>\n",
    "<dt>Magnitude</dt><dd>{Magnitude}</dd>\n",
    "</dl>\n",
    "\"\"\"\n",
    "eq_info = [info_box_template.format(**eq) for eq in top_5_earthquakes]\n",
    "\n",
    "marker_layer = gmaps.marker_layer(eq_locations, info_box_content=eq_info)\n",
    "fig.add_layer(marker_layer)\n",
    "fig.add_layer(heat_layer)\n",
    "\n",
    "fig\n",
    "\n",
    "\n",
    "\n"
   ]
  },
  {
   "cell_type": "code",
   "execution_count": null,
   "id": "062df8b1",
   "metadata": {},
   "outputs": [],
   "source": [
    "# Heatmap above shows the distribution of magnitudes, along with the top 5 magnitudes. \n",
    "# zoom in and one can see that there are mostly green alerts."
   ]
  },
  {
   "cell_type": "code",
   "execution_count": null,
   "id": "6f185343",
   "metadata": {},
   "outputs": [],
   "source": [
    "# Question: What is the alert level density of earthquakes?"
   ]
  },
  {
   "cell_type": "code",
   "execution_count": null,
   "id": "35427c2e",
   "metadata": {},
   "outputs": [],
   "source": [
    "# Plot B: for proof along with magnitudes\n",
    "# Get the data needed \n",
    "earthquake_mag = earthquake_data[['id','Magnitude', 'Alert']]"
   ]
  },
  {
   "cell_type": "code",
   "execution_count": null,
   "id": "6e145e94",
   "metadata": {},
   "outputs": [],
   "source": [
    "#create a new column\n",
    "np.seterr(divide='ignore', invalid='ignore')\n",
    "plt.figure(figsize=(9,5))\n",
    "\n",
    "# Make a separate list for each magnitude\n",
    "x9 = list(earthquake_mag[earthquake_mag['Magnitude']>=9]['Alert'])\n",
    "x8 = list(earthquake_mag[(earthquake_mag['Magnitude']>=8) & (earthquake_mag['Magnitude']<9)]['Alert'])\n",
    "x7 = list(earthquake_mag[(earthquake_mag['Magnitude']>=7) & (earthquake_mag['Magnitude']<8)]['Alert'])\n",
    "x6 = list(earthquake_mag[(earthquake_mag['Magnitude']>=6) & (earthquake_mag['Magnitude']<7)]['Alert'])\n",
    "x5 = list(earthquake_mag[(earthquake_mag['Magnitude']>=5) & (earthquake_mag['Magnitude']<6)]['Alert'])\n",
    "x4 = list(earthquake_mag[(earthquake_mag['Magnitude']>=4) & (earthquake_mag['Magnitude']<5)]['Alert'])\n",
    "x3 = list(earthquake_mag[(earthquake_mag['Magnitude']>=3) & (earthquake_mag['Magnitude']<4)]['Alert'])\n",
    "x2 = list(earthquake_mag[(earthquake_mag['Magnitude']>=2) & (earthquake_mag['Magnitude']<3)]['Alert'])\n",
    "x1 = list(earthquake_mag[(earthquake_mag['Magnitude']>=1) & (earthquake_mag['Magnitude']<2)]['Alert'])\n",
    "x0 = list(earthquake_mag[(earthquake_mag['Magnitude']>=0) & (earthquake_mag['Magnitude']<1)]['Alert'])\n",
    "\n",
    "# Assign colors for each magnitude and the names\n",
    "colors = ['black', 'olive', 'cyan', 'pink', 'brown', 'green', 'blue', 'orange', 'purple', 'red']\n",
    "names = ['Mag 0', 'Mag 1', 'Mag 2', 'Mag 3', 'Mag 4','Mag 5', 'Mag 6', 'Mag 7', 'Mag 8', 'Mag 9']\n",
    "\n",
    "# Define the plot\n",
    "plt.hist([x0, x1, x2, x3, x4, x5, x6, x7, x8, x9], bins = 4, density=True,\n",
    "         color = colors, label=names) \n",
    "\n",
    "# assign labels\n",
    "plt.xlabel(\"Alert Levels\", fontsize=14, fontweight='bold')\n",
    "plt.ylabel(\"Density\", fontsize=14, fontweight='bold')\n",
    "plt.title(\"Density Histogram of Earthquake Alert Level Showing Magnitudes\",fontsize=14)\n",
    "\n",
    "\n",
    "plt.xticks(rotation=45)\n",
    "\n",
    "plt.legend(title='Legend',fancybox=True) \n",
    "plt.tight_layout()\n",
    "#save the figure\n",
    "plt.savefig(output_folder + \"DensityHistEQAlertWithMagnitudes.png\", facecolor = 'white')\n",
    "\n",
    "plt.show()"
   ]
  },
  {
   "cell_type": "code",
   "execution_count": null,
   "id": "798daa71",
   "metadata": {},
   "outputs": [],
   "source": [
    "# Thus the alert level density clearly shows that the green alert level is far more dense 1.3 \n",
    "# compared to other levels is around 0.3 or less. \n",
    "# Thus more earthquakes are categorized at this green level.\n",
    "# Additionally, all magnitudes are shown on the graph (except 9+) in the green alert level."
   ]
  },
  {
   "cell_type": "code",
   "execution_count": null,
   "id": "487eb920",
   "metadata": {},
   "outputs": [],
   "source": [
    "# Question: Is there a relationship between the magnitude of earthquakes \n",
    "# and % chance that a large oceanic event will occur?"
   ]
  },
  {
   "cell_type": "code",
   "execution_count": null,
   "id": "3b05c664",
   "metadata": {},
   "outputs": [],
   "source": [
    "# Get the data needed: \n",
    "# count of Magnitude: counts all rows in group\n",
    "# sum of tsunami: sums together where is a 1 value \n",
    "#(if it was count, they would be equal numbers to magnitude count)\n",
    "\n",
    "#group by Magnitude (total sum of tsunami at that magnitude)/(total counts at that mag) * 100\n",
    "mag_vs_tsunami_data = earthquake_data.groupby([\"Magnitude\"]).agg({\n",
    "                            \"Magnitude\": \"count\", \"Tsunami\": \"sum\"})\n",
    "\n",
    "#tsuanami count\n",
    "mag_vs_tsunami_data.rename(columns = {'Magnitude':'Magnitude_Count','Tsunami':'Oceanic_Event_Count'}, inplace = True)\n",
    "percent_tsunami = mag_vs_tsunami_data['Oceanic_Event_Count'] /mag_vs_tsunami_data['Magnitude_Count'] *100\n",
    "mag_vs_tsunami_data.insert(2,\"% Large Oceanic Event\",percent_tsunami,True)\n",
    "\n",
    "mag_vs_tsunami_data.reset_index(drop=False, inplace=True)\n",
    "\n",
    "mag_vs_tsunami_data.sort_values(by=\"Magnitude\")\n",
    "mag_vs_tsunami_data.head()\n"
   ]
  },
  {
   "cell_type": "code",
   "execution_count": null,
   "id": "3bc45406",
   "metadata": {},
   "outputs": [],
   "source": [
    "#Plot: Magnitude vs % Chance of Large Oceanic Event \n",
    "fig, ax = plt.subplots(figsize=(15,4))\n",
    "\n",
    "ax.scatter(mag_vs_tsunami_data[\"Magnitude\"], mag_vs_tsunami_data[\"% Large Oceanic Event\"], alpha = 0.8, edgecolors=\"k\", linewidth=1)\n",
    "\n",
    "#Labels\n",
    "ax.set_title(\"Earthquake Magnitude vs % Chance of Large Oceanic Event (2010-2020)\",fontsize=15) \n",
    "ax.set_xlabel(\"Magnitude (Richter scale)\", fontweight='bold')\n",
    "ax.set_ylabel(\"Oceanic Event Chance (%)\", fontweight='bold')\n",
    "ax.set_xlim(0, 9)\n",
    "ax.grid(True)\n",
    "ax.xaxis.grid(False, which='minor')\n",
    "#set the number of minor ticks between the major ticks\n",
    "ax.xaxis.set_minor_locator(AutoMinorLocator(10))\n",
    "\n",
    "#save the figure\n",
    "plt.savefig(output_folder + \"EarthquakeMagnitudeVsPcOceanicEvent.png\", facecolor = 'white')\n",
    "plt.show()"
   ]
  },
  {
   "cell_type": "markdown",
   "id": "69a55b48",
   "metadata": {},
   "source": [
    "### What we are seeing in above plot 'generally':\n",
    "\n",
    "1. Magnitudes: 0 - 3.5;  \n",
    "    1. No large oceanic events at these magnitudes\n",
    "    \n",
    "2. Magnitudes: 3.6 - 6.1;  \n",
    "    1. There seems to be a lot of variety, if there is an oceanic event or not. Analysis can be done. \n",
    "    2. This may be due to some regions being land-locked and other being in the ocean.\n",
    "    3. This could be due to other factors as well, such as the depth of the earthquake...\n",
    "                    \n",
    "3. Magnitudes: 6.1 - 7;      \n",
    "    1. There may be a +ve trend. How many are landlocked vs oceanic? Analysis needed.\n",
    "                         \n",
    "4. Magnitudes: > 7;\n",
    "    1. May continue +ve trend from 6.1-7 continuing and sloping off.\n",
    "    2. May be that most above 7 are oceanic, and will most likely produce an oceanic event\n",
    "    3. Would need to clarify, event at 8.6, see if landlocked or depth affected result.\n",
    "    4. May just be fewer events to track here as well.\n",
    "    5. Further analysis needed.\n",
    "                        "
   ]
  },
  {
   "cell_type": "code",
   "execution_count": null,
   "id": "bdbefebd",
   "metadata": {},
   "outputs": [],
   "source": [
    "# TEST FOR TRENDS : Regression Analysis\n",
    "# Split the data, as the data shows 2 possible scenarios\n",
    "# Magnitudes: 3.6 to to 6.1 (varies a lot)\n",
    "mag_tsun_3p6To6p1 = mag_vs_tsunami_data[(mag_vs_tsunami_data['Magnitude']>=3.6) \\\n",
    "                             & (mag_vs_tsunami_data['Magnitude']<=6.1)]\n",
    "\n",
    "# TEST FOR TRENDS : Regression Analysis \n",
    "# Magnitudes: >6.1 (does not vary as much)\n",
    "mag_tsun_GT6p1 = mag_vs_tsunami_data[(mag_vs_tsunami_data['Magnitude']>6)]"
   ]
  },
  {
   "cell_type": "code",
   "execution_count": null,
   "id": "b0d8200b",
   "metadata": {},
   "outputs": [],
   "source": [
    "# Plot 2 scatter plots divided out: 1.) 3.6 to 6.1 magnitude 2.)  > 6.1 magnitude\n",
    "\n",
    "#Magnitude vs Large Oceanic Event \n",
    "\n",
    "# 3.6 to 6.1\n",
    "fig, (ax1, ax2) = plt.subplots(2,1, figsize=(10,8))\n",
    "fig.suptitle('Division of Magnitudes to find Possible Trends', fontsize=20)\n",
    "\n",
    "\n",
    "ax1.scatter(mag_tsun_3p6To6p1[\"Magnitude\"], mag_tsun_3p6To6p1[\"% Large Oceanic Event\"], alpha = 0.8, edgecolors=\"k\", linewidth=1)\n",
    "\n",
    "#Label\n",
    "ax1.set_title(\"Earthquake Magnitude vs % Chance of Large Oceanic Event (2010-2020)\", fontsize = 14) \n",
    "\n",
    "ax1.set_xlabel(\"Magnitude (Richter scale)\", fontweight='bold')\n",
    "ax1.set_ylabel(\"Large Oceanic Event (%)\", fontweight='bold')\n",
    "ax1.set_xlim(3.5, 6.2)\n",
    "ax1.grid(True)\n",
    "ax1.xaxis.grid(False, which='minor')\n",
    "#set the number of minor ticks between the major ticks\n",
    "ax1.xaxis.set_minor_locator(AutoMinorLocator(5))\n",
    "ax1.annotate(\"* 3.6 =< x <= 6.1\",(3.5,80),fontsize=15,color=\"dimgray\")\n",
    "#############\n",
    "\n",
    "# 2 mag_tsun_GT6p1\n",
    "# Magnitude vs % Large Oceanic Event (2010 - 2020)\n",
    "# Magnitudes of  >6.1\n",
    "\n",
    "ax2.scatter(mag_tsun_GT6p1[\"Magnitude\"], mag_tsun_GT6p1[\"% Large Oceanic Event\"], alpha = 0.8, edgecolors=\"k\", linewidth=1)\n",
    "\n",
    "#Label\n",
    "#ax2.set_title(\"Earthquake Magnitude vs % Chance of Large Oceanic Event (2010-2020)\", fontsize = 14) \n",
    "ax2.set_xlabel(\"Magnitude (Richter scale)\", fontweight='bold')\n",
    "ax2.set_ylabel(\"Large Oceanic Event (%)\", fontweight='bold')\n",
    "ax2.set_xlim(6.15, 9)\n",
    "ax2.grid(True)\n",
    "ax2.xaxis.grid(False, which='minor')\n",
    "#set the number of minor ticks between the major ticks\n",
    "ax2.xaxis.set_minor_locator(AutoMinorLocator(5))\n",
    "ax2.annotate(\"* x > 6.1\",(6.2,80),fontsize=15,color=\"dimgray\")\n",
    "\n",
    "fig.tight_layout()\n",
    "#save\n",
    "plt.savefig(output_folder + \"DivisionMagnitudesScatterPlot.png\", facecolor = 'white')\n",
    "\n",
    "plt.show()"
   ]
  },
  {
   "cell_type": "code",
   "execution_count": null,
   "id": "adc36ef0",
   "metadata": {},
   "outputs": [],
   "source": [
    "# LINEAR REGRESSION"
   ]
  },
  {
   "cell_type": "code",
   "execution_count": null,
   "id": "417f0fa2",
   "metadata": {},
   "outputs": [],
   "source": [
    "#Earthquake Magnitude vs % Chance of Large Oceanic Event (2010-2020)\n",
    "# Mag 3.6 to 6.1 uses: mag_tsun_3p6To6p1\n",
    "# Mag > 6.1 uses: mag_tsun_GT6p1\n",
    "\n",
    "#get values\n",
    "x1_values = mag_tsun_3p6To6p1[\"Magnitude\"]\n",
    "y1_values = mag_tsun_3p6To6p1[\"% Large Oceanic Event\"]\n",
    "\n",
    "x2_values = mag_tsun_GT6p1[\"Magnitude\"]\n",
    "y2_values = mag_tsun_GT6p1[\"% Large Oceanic Event\"]\n",
    "\n",
    "#linear regression\n",
    "(slope, intercept, rvalue, pvalue, stderr) = linregress(x1_values, y1_values)\n",
    "regress_values = x1_values * slope + intercept\n",
    "line_eq = \"y = \" + str(round(slope,2)) + \"x + \" + str(round(intercept,2))\n",
    "\n",
    "#plot\n",
    "fig, (ax1, ax2) = plt.subplots(2,1, figsize=(10,8))\n",
    "fig.suptitle('Linear Regression', fontsize= 20)\n",
    "\n",
    "ax1.scatter(x1_values,y1_values, alpha = 0.8, edgecolors=\"k\", linewidth=1)\n",
    "ax1.plot(x1_values,regress_values,\"c-\")\n",
    "ax1.annotate(line_eq,(3.6,80),fontsize=15,color=\"dimgray\")\n",
    "ax1.annotate('* 3.6 =< x <= 6.1',(3.6,70),fontsize=12,color=\"dimgray\")\n",
    "\n",
    "#Labels\n",
    "ax1.set_xlabel(\"Magnitude (Richter scale)\",fontweight='bold')\n",
    "ax1.set_title(\"Earthquake Magnitude vs % Chance of Large Oceanic Event (2010-2020)\", fontsize=14) \n",
    "ax1.set_ylabel(\"Large Oceanic Event (%)\", fontweight = 'bold')\n",
    "#ax1.set_xlabel(\"Magnitude (Richter scale)\")\n",
    "\n",
    "\n",
    "ax1.grid(True)\n",
    "ax1.xaxis.grid(False, which='minor')\n",
    "#set the number of minor ticks between the major ticks\n",
    "ax1.xaxis.set_minor_locator(AutoMinorLocator(5))\n",
    "\n",
    "####################\n",
    "\n",
    "# 2 mag_tsun_GT6p1\n",
    "# Magnitude vs % Large Oceanic Event (2010 - 2020)\n",
    "# Magnitudes of # >6.1\n",
    "#linear regression\n",
    "(slope2, intercept2, rvalue2, pvalue2, stderr2) = linregress(x2_values, y2_values)\n",
    "regress_values2 = x2_values * slope2 + intercept2\n",
    "line_eq2 = \"y = \" + str(round(slope2,2)) + \"x + \" + str(round(intercept2,2))\n",
    "\n",
    "\n",
    "ax2.scatter(x2_values,y2_values, alpha = 0.8, edgecolors=\"k\", linewidth=1)\n",
    "ax2.plot(x2_values,regress_values2,\"c-\")\n",
    "ax2.annotate(line_eq2,(7,30),fontsize=15,color=\"dimgray\")\n",
    "ax2.annotate('* x > 6.1',(7,20),fontsize=12,color=\"dimgray\")\n",
    "#Label\n",
    "\n",
    "ax2.set_xlabel(\"Magnitude (Richter scale)\",fontweight='bold')\n",
    "ax2.set_ylabel(\"Large Oceanic Event (%)\", fontweight='bold')\n",
    "ax2.set_xlim(6.15, 9)\n",
    "ax2.grid(True)\n",
    "ax2.xaxis.grid(False, which='minor')\n",
    "#set the number of minor ticks between the major ticks\n",
    "ax2.xaxis.set_minor_locator(AutoMinorLocator(5))\n",
    "\n",
    "\n",
    "fig.tight_layout()\n",
    "\n",
    "#save the figure and show\n",
    "plt.savefig(output_folder + \"DivisionMagnitudesLinearRegression.png\", facecolor = 'white')\n",
    "plt.show()\n",
    "\n",
    "\n",
    "print(f\"The r-squared for Linear Regression plot 1 is: {rvalue**2}\")\n",
    "print(f\"The r-squared for Linear Regression plot 2 is: {rvalue2**2}\")"
   ]
  },
  {
   "cell_type": "code",
   "execution_count": null,
   "id": "7d280dee",
   "metadata": {},
   "outputs": [],
   "source": [
    "# Thus, no correlation between Magnitude and Large Oceanic Events because r-squared 0.01 indicates no correlation\n",
    "# to a 'very' weak correlation if there was one. "
   ]
  },
  {
   "cell_type": "code",
   "execution_count": null,
   "id": "31052731",
   "metadata": {},
   "outputs": [],
   "source": [
    "# Can look at what happended at 8.6 magnitude. See why this did not trigger a large oceanic event:\n",
    "# Look at data where magnitude = 8.6 get latitudes, review gps coordinates to see if landlocked\n",
    "mag8p6=earthquake_data[earthquake_data['Magnitude']==8.6]\n",
    "mag8p6"
   ]
  },
  {
   "cell_type": "code",
   "execution_count": null,
   "id": "a8f6d90d",
   "metadata": {},
   "outputs": [],
   "source": [
    "# Indeed this happened in the Indian Ocean, with a depth of 20 km\n",
    "# Thus, Depth, and coordinates (if landlocked or not) are more variables to consider when looking at Magnitude \n",
    "# and large oceanic events. \n",
    "# Additionally, there may have been a better model to use to get a better ideal of the how the data\n",
    "# fits. \n"
   ]
  },
  {
   "cell_type": "code",
   "execution_count": null,
   "id": "c54a09b8",
   "metadata": {},
   "outputs": [],
   "source": []
  },
  {
   "cell_type": "code",
   "execution_count": null,
   "id": "9ea784ee",
   "metadata": {},
   "outputs": [],
   "source": []
  }
 ],
 "metadata": {
  "kernelspec": {
   "display_name": "Python 3",
   "language": "python",
   "name": "python3"
  },
  "language_info": {
   "codemirror_mode": {
    "name": "ipython",
    "version": 3
   },
   "file_extension": ".py",
   "mimetype": "text/x-python",
   "name": "python",
   "nbconvert_exporter": "python",
   "pygments_lexer": "ipython3",
   "version": "3.6.13"
  }
 },
 "nbformat": 4,
 "nbformat_minor": 5
}
