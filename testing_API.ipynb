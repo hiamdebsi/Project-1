{
 "cells": [
  {
   "cell_type": "code",
   "execution_count": 1,
   "id": "bd72c803",
   "metadata": {},
   "outputs": [],
   "source": [
    "#Dependencies\n",
    "import pandas as pd\n",
    "import requests\n",
    "import json"
   ]
  },
  {
   "cell_type": "code",
   "execution_count": 10,
   "id": "dc52c7a9",
   "metadata": {},
   "outputs": [],
   "source": [
    "#Base URL\n",
    "#base_url = \"https://earthquake.usgs.gov/fdsnws/event/1/application.json/\"\n",
    "\n",
    "#Specifie paramters\n",
    "#params = {\n",
    "    #\"format\": \"geojson\",\n",
    "    #'starttime':'2010-01-01',\n",
    "    #'endtime':'2021-01-01'}"
   ]
  },
  {
   "cell_type": "code",
   "execution_count": 11,
   "id": "b6be84b0",
   "metadata": {},
   "outputs": [
    {
     "name": "stdout",
     "output_type": "stream",
     "text": [
      "https://earthquake.usgs.gov/fdsnws/event/1/application.json/?format=geojson&starttime=2010-01-01&endtime=2021-01-01\n"
     ]
    }
   ],
   "source": [
    "#response = requests.get(url = base_url, params = params)\n",
    "#request_url = response.url\n",
    "#print(request_url)"
   ]
  },
  {
   "cell_type": "code",
   "execution_count": 18,
   "id": "c7ef8c68",
   "metadata": {},
   "outputs": [
    {
     "name": "stdout",
     "output_type": "stream",
     "text": [
      "1560783344876 22 km ESE of Xunchang, China 5.8 0\n",
      "1538128965250 72 km N of Palu, Indonesia 8.5 0\n",
      "1529276314770 near the south coast of western Honshu, Japan 7.9 0\n",
      "1510510697180 29 km S of ?alabja, Iraq 7.9 0\n",
      "1504846159180 near the coast of Chiapas, Mexico 9.1 1\n",
      "1477809618670 5 km ESE of Preci, Italy 9.1 0\n",
      "1477509488430 2 km NNW of Visso, Italy 8.6 0\n",
      "1472002592870 5 km WNW of Accumoli, Italy 8.6 0\n",
      "1460737506220 6 km ESE of Kumamoto, Japan 9.1 1\n",
      "1460636795730 2 km SSE of Kumamoto, Japan 7.9 0\n",
      "1429942285950 67 km NNE of Bharatpur, Nepal 8.2 0\n",
      "1408875644070 South Napa 7.6 1\n",
      "1407054613570 33 km WSW of Zhaotong, China 7.3 0\n",
      "1380022187970 113 km NW of Bela, Pakistan 5 0\n",
      "1366416167540 56 km WSW of Linqiong, China 8.7 0\n",
      "1270420842360 12km SW of Delta, B.C., MX 9.1 0\n"
     ]
    }
   ],
   "source": [
    "def earthquake(f):\n",
    "    paramss = {\"format\": \"geojson\", \"starttime\": \"2010-01-01\", \"endtime\": \"2020-12-31\", \"alertlevel\":\"red\"}\n",
    "    data = requests.get(f, params = paramss)\n",
    "    data = json.loads(data.text)\n",
    "    return data\n",
    "\n",
    "f = r\"https://earthquake.usgs.gov/fdsnws/event/1/query?\"\n",
    "a = earthquake(f)\n",
    "\n",
    "for i in (a[\"features\"]):\n",
    "    print(i[\"properties\"][\"time\"], i[\"properties\"][\"place\"], \n",
    "    i[\"properties\"][\"cdi\"], i[\"properties\"][\"tsunami\"])"
   ]
  },
  {
   "cell_type": "code",
   "execution_count": 22,
   "id": "b5b7848f",
   "metadata": {
    "scrolled": true
   },
   "outputs": [],
   "source": [
    "#Need to convert time into readable time/date"
   ]
  },
  {
   "cell_type": "code",
   "execution_count": null,
   "id": "0c154d6c",
   "metadata": {},
   "outputs": [],
   "source": []
  }
 ],
 "metadata": {
  "kernelspec": {
   "display_name": "Python 3",
   "language": "python",
   "name": "python3"
  },
  "language_info": {
   "codemirror_mode": {
    "name": "ipython",
    "version": 3
   },
   "file_extension": ".py",
   "mimetype": "text/x-python",
   "name": "python",
   "nbconvert_exporter": "python",
   "pygments_lexer": "ipython3",
   "version": "3.6.13"
  }
 },
 "nbformat": 4,
 "nbformat_minor": 5
}
